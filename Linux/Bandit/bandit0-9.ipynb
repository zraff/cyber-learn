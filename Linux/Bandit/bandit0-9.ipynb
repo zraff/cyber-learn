{
 "cells": [
  {
   "cell_type": "code",
   "execution_count": null,
   "id": "27ace2de",
   "metadata": {
    "vscode": {
     "languageId": "plaintext"
    }
   },
   "outputs": [],
   "source": [
    "Passwords for bandit 0-9\n",
    "\n",
    "1. ZjLjTmM6FvvyRnrb2rfNWOZOTa6ip5If\n",
    "2. 263JGJPfgU6LtdEvgfWU1XP5yac29mFx\n",
    "3. MNk8KNH3Usiio41PRUEoDFPqfxLPlSmx\n",
    "4. 2WmrDFRmJIq3IPxneAaMGhap0pFhF3NJ\n",
    "5. 4oQYVPkxZOOEOO5pTW81FB8j8lxXGUQw\n",
    "6. HWasnPhtq9AVKe0dmk45nxy20cvUa6EG\n",
    "7. morbNTDkSW6jIlUc0ymOdMaLnOlFVAaj\n",
    "8. dfwvzFQi4mU0wfNbFOe9RoWskMLg7eEc\n",
    "9. 4CKMh1JI91bUIZZPXDqGanal4xvAg0JM\n"
   ]
  },
  {
   "cell_type": "code",
   "execution_count": null,
   "id": "c047b582",
   "metadata": {
    "vscode": {
     "languageId": "plaintext"
    }
   },
   "outputs": [],
   "source": [
    "bandit0 - ssh\n",
    "ssh bandit0@bandit.labs.overthewire.org -p 2220\n",
    "login as bandit0 to bandit.labs.overthewire.org port 2220"
   ]
  },
  {
   "cell_type": "code",
   "execution_count": null,
   "id": "18370044",
   "metadata": {
    "vscode": {
     "languageId": "plaintext"
    }
   },
   "outputs": [],
   "source": [
    "bandit0-1 - find password inside a file called readme\n",
    "ls  - list all files and folders\n",
    "cat readme - view contents of the file\n"
   ]
  },
  {
   "cell_type": "code",
   "execution_count": null,
   "id": "918bd3e6",
   "metadata": {
    "vscode": {
     "languageId": "plaintext"
    }
   },
   "outputs": [],
   "source": [
    "bandit1-2 - dashed filename\n",
    "ls \n",
    "cat ./-   - path of filename"
   ]
  },
  {
   "cell_type": "code",
   "execution_count": null,
   "id": "b803d8a5",
   "metadata": {
    "vscode": {
     "languageId": "plaintext"
    }
   },
   "outputs": [],
   "source": [
    "bandit2-3 - spaces in filename\n",
    "ls \n",
    "cat ./spaces\\ in\\ this\\ filename  \n",
    "- use backslash \"\\\" to use special characters in path"
   ]
  },
  {
   "cell_type": "code",
   "execution_count": null,
   "id": "e238d4e4",
   "metadata": {
    "vscode": {
     "languageId": "plaintext"
    }
   },
   "outputs": [],
   "source": [
    "bandit3-4  - hidden file \n",
    "ls\n",
    "cd inhere \n",
    "ls\n",
    "ls -a   - show hidden files\n",
    "cat ./...Hiding-From-You\n"
   ]
  },
  {
   "cell_type": "code",
   "execution_count": null,
   "id": "25b4a02c",
   "metadata": {
    "vscode": {
     "languageId": "plaintext"
    }
   },
   "outputs": [],
   "source": [
    "bandit4-5   - human readable files \n",
    "ls \n",
    "cd inhere\n",
    "ls\n",
    "file ./*  - shows file types\n",
    "cat ./-file07  - because -file07 has ascii text\n"
   ]
  },
  {
   "cell_type": "code",
   "execution_count": null,
   "id": "d3a0844f",
   "metadata": {
    "vscode": {
     "languageId": "plaintext"
    }
   },
   "outputs": [],
   "source": [
    "bandit 5-6  - human readable, 1033 bytes, non executable\n",
    "ls \n",
    "cd inhere \n",
    "ls\n",
    "man find   - read the manual for find\n",
    "find -size 1033c  - find the file of size, c for bytes, k for KB, M,G for MB,GB\n",
    "cat ./maybehere07/.file2\n",
    "\n",
    "alternative:\n",
    "find -type f -size 1033c ! -perm /111 -exec file {} \\; | grep ASCII \n",
    "\n",
    "type -- filetype \n",
    "! -- not\n",
    "-perm permissions /111 meaning executable\n",
    "exec -- execute this command\n",
    "{} -- output \n",
    "\\; end execution\n",
    "| -- pipe to \n",
    "grep -- find patterns\n",
    "ASCII -- text file"
   ]
  },
  {
   "cell_type": "code",
   "execution_count": null,
   "id": "279950ce",
   "metadata": {
    "vscode": {
     "languageId": "plaintext"
    }
   },
   "outputs": [],
   "source": []
  }
 ],
 "metadata": {
  "language_info": {
   "name": "python"
  }
 },
 "nbformat": 4,
 "nbformat_minor": 5
}
