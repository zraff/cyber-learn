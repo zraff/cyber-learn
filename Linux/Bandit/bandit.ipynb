{
 "cells": [
  {
   "cell_type": "code",
   "execution_count": null,
   "id": "27ace2de",
   "metadata": {
    "vscode": {
     "languageId": "plaintext"
    }
   },
   "outputs": [],
   "source": [
    "Passwords for bandit 0-9\n",
    "\n",
    "1. ZjLjTmM6FvvyRnrb2rfNWOZOTa6ip5If\n",
    "2. 263JGJPfgU6LtdEvgfWU1XP5yac29mFx\n",
    "3. MNk8KNH3Usiio41PRUEoDFPqfxLPlSmx\n",
    "4. 2WmrDFRmJIq3IPxneAaMGhap0pFhF3NJ\n",
    "5. 4oQYVPkxZOOEOO5pTW81FB8j8lxXGUQw\n",
    "6. HWasnPhtq9AVKe0dmk45nxy20cvUa6EG\n",
    "7. morbNTDkSW6jIlUc0ymOdMaLnOlFVAaj\n",
    "8. dfwvzFQi4mU0wfNbFOe9RoWskMLg7eEc\n",
    "9. 4CKMh1JI91bUIZZPXDqGanal4xvAg0JM\n",
    "10. FGUW5ilLVJrxX9kMYMmlN4MgbpfMiqey\n",
    "11. dtR173fZKb0RRsDFSGsg2RWnpNVj3qRr\n",
    "12. 7x16WNeHIi5YkIhWsfFIqoognUTyj9Q4\n"
   ]
  },
  {
   "cell_type": "code",
   "execution_count": null,
   "id": "c047b582",
   "metadata": {
    "vscode": {
     "languageId": "plaintext"
    }
   },
   "outputs": [],
   "source": [
    "bandit0 - ssh\n",
    "ssh bandit0@bandit.labs.overthewire.org -p 2220\n",
    "login as bandit0 to bandit.labs.overthewire.org port 2220"
   ]
  },
  {
   "cell_type": "code",
   "execution_count": null,
   "id": "18370044",
   "metadata": {
    "vscode": {
     "languageId": "plaintext"
    }
   },
   "outputs": [],
   "source": [
    "bandit0-1 - find password inside a file called readme\n",
    "ls  - list all files and folders\n",
    "cat readme - view contents of the file\n"
   ]
  },
  {
   "cell_type": "code",
   "execution_count": null,
   "id": "918bd3e6",
   "metadata": {
    "vscode": {
     "languageId": "plaintext"
    }
   },
   "outputs": [],
   "source": [
    "bandit1-2 - dashed filename\n",
    "ls \n",
    "cat ./-   - path of filename"
   ]
  },
  {
   "cell_type": "code",
   "execution_count": null,
   "id": "b803d8a5",
   "metadata": {
    "vscode": {
     "languageId": "plaintext"
    }
   },
   "outputs": [],
   "source": [
    "bandit2-3 - spaces in filename\n",
    "ls \n",
    "cat ./spaces\\ in\\ this\\ filename  \n",
    "- use backslash \"\\\" to use special characters in path"
   ]
  },
  {
   "cell_type": "code",
   "execution_count": null,
   "id": "e238d4e4",
   "metadata": {
    "vscode": {
     "languageId": "plaintext"
    }
   },
   "outputs": [],
   "source": [
    "bandit3-4  - hidden file \n",
    "ls\n",
    "cd inhere \n",
    "ls\n",
    "ls -a   - show hidden files\n",
    "cat ./...Hiding-From-You\n"
   ]
  },
  {
   "cell_type": "code",
   "execution_count": null,
   "id": "25b4a02c",
   "metadata": {
    "vscode": {
     "languageId": "plaintext"
    }
   },
   "outputs": [],
   "source": [
    "bandit4-5   - human readable files \n",
    "ls \n",
    "cd inhere\n",
    "ls\n",
    "file ./*  - shows file types\n",
    "cat ./-file07  - because -file07 has ascii text\n"
   ]
  },
  {
   "cell_type": "code",
   "execution_count": null,
   "id": "d3a0844f",
   "metadata": {
    "vscode": {
     "languageId": "plaintext"
    }
   },
   "outputs": [],
   "source": [
    "bandit5-6  - human readable, 1033 bytes, non executable\n",
    "ls \n",
    "cd inhere \n",
    "ls\n",
    "man find   - read the manual for find\n",
    "find -size 1033c  - find the file of size, c for bytes, k for KB, M,G for MB,GB\n",
    "cat ./maybehere07/.file2\n",
    "\n",
    "alternative:\n",
    "find -type f -size 1033c ! -perm /111 -exec file {} \\; | grep ASCII \n",
    "\n",
    "type -- filetype \n",
    "! -- not\n",
    "-perm permissions /111 meaning executable\n",
    "exec -- execute this command\n",
    "{} -- output \n",
    "\\; end execution\n",
    "| -- pipe to \n",
    "grep -- find patterns\n",
    "ASCII -- text file"
   ]
  },
  {
   "cell_type": "code",
   "execution_count": null,
   "id": "279950ce",
   "metadata": {
    "vscode": {
     "languageId": "plaintext"
    }
   },
   "outputs": [],
   "source": [
    "bandit6-7  - on the server, owner-user-group , size \n",
    "find / -user bandit7 -group bandit6 -size 33c 2>/dev/null -exec cat {} \\;\n",
    "/ -- search the whole system, ./ -- search from current directory \n",
    "2>/dev/null -- hide errors -- 0,1,2 - stdin,stdout,error \n",
    "/dev/null -- blackhole\n",
    "-exec cat {} \\; execute cat command on output \n"
   ]
  },
  {
   "cell_type": "code",
   "execution_count": null,
   "id": "604ddae6",
   "metadata": {
    "vscode": {
     "languageId": "plaintext"
    }
   },
   "outputs": [],
   "source": [
    "bandit7-8 -- finding patterns in a file\n",
    "grep millionth data.txt  -- search for millionth in data.txt"
   ]
  },
  {
   "cell_type": "code",
   "execution_count": null,
   "id": "4c7aa2d1",
   "metadata": {
    "vscode": {
     "languageId": "plaintext"
    }
   },
   "outputs": [],
   "source": [
    "bandit8-9  -  line of text occuring only once inside a file\n",
    "sort data.txt | uniq -u -c\n",
    "sort -- groups duplicate strings together \n",
    "uniq -- -u, -c -- unique, count"
   ]
  },
  {
   "cell_type": "code",
   "execution_count": null,
   "id": "15857c77",
   "metadata": {
    "vscode": {
     "languageId": "plaintext"
    }
   },
   "outputs": [],
   "source": [
    "bandit9-10 - human readable string inside a file, preceded by several '=' characters \n",
    "strings data.txt | grep ==\n",
    "strings -- show printable sequences\n",
    "grep == -- find pattern == on each sequence"
   ]
  },
  {
   "cell_type": "code",
   "execution_count": null,
   "id": "08215c23",
   "metadata": {
    "vscode": {
     "languageId": "plaintext"
    }
   },
   "outputs": [],
   "source": [
    "bandit10-11  - base64 encoding\n",
    "base64 -d data.txt -- decodes base64 encoded data"
   ]
  },
  {
   "cell_type": "code",
   "execution_count": null,
   "id": "cb14ac9a",
   "metadata": {
    "vscode": {
     "languageId": "plaintext"
    }
   },
   "outputs": [],
   "source": [
    "bandit11-12  - all lowercase and uppercase letters rotated by 13 positions\n",
    "cat data.txt | tr 'A-Za-z' 'N-ZA-Mn-za-m'\n",
    "tr -- translate , mapping string1 to string2 for each alphabet "
   ]
  },
  {
   "cell_type": "code",
   "execution_count": null,
   "id": "91da26fb",
   "metadata": {
    "vscode": {
     "languageId": "plaintext"
    }
   },
   "outputs": [],
   "source": [
    "bandit12-13  - "
   ]
  }
 ],
 "metadata": {
  "language_info": {
   "name": "python"
  }
 },
 "nbformat": 4,
 "nbformat_minor": 5
}
